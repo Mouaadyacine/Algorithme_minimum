{
 "cells": [
  {
   "cell_type": "code",
   "execution_count": null,
   "metadata": {},
   "outputs": [],
   "source": [
    "variable\n",
    "  i,min:entiers\n",
    "tableau\n",
    "  t(10):entier\n",
    "debut\n",
    "pour i recoit 0 a 9 pas 1 faire \n",
    "ecrire(\"donner le nombre numero\",i+1)\n",
    "lire(t(i))\n",
    "fin pour \n",
    "min=t(0)\n",
    "pour i recoit 0 a 9 pas 1 faire \n",
    "  si min>t(i) alors\n",
    "min=t(i)\n",
    "fin si \n",
    "fin pour \n",
    "fin "
   ]
  }
 ],
 "metadata": {
  "language_info": {
   "name": "python"
  }
 },
 "nbformat": 4,
 "nbformat_minor": 2
}
